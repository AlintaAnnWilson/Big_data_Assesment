{
  "cells": [
    {
      "cell_type": "markdown",
      "metadata": {
        "id": "NkLd6wJ3vs2j"
      },
      "source": [
        "#Setting up JVM"
      ]
    },
    {
      "cell_type": "code",
      "execution_count": null,
      "metadata": {
        "colab": {
          "base_uri": "https://localhost:8080/"
        },
        "id": "TPCRcyV6vGh1",
        "outputId": "75027081-9b9c-45c8-d3ab-0571cf419191"
      },
      "outputs": [
        {
          "output_type": "stream",
          "name": "stdout",
          "text": [
            "Reading package lists... Done\n",
            "Building dependency tree       \n",
            "Reading state information... Done\n",
            "The following additional packages will be installed:\n",
            "  libxtst6 openjdk-8-jre-headless\n",
            "Suggested packages:\n",
            "  openjdk-8-demo openjdk-8-source libnss-mdns fonts-dejavu-extra\n",
            "  fonts-ipafont-gothic fonts-ipafont-mincho fonts-wqy-microhei\n",
            "  fonts-wqy-zenhei fonts-indic\n",
            "The following NEW packages will be installed:\n",
            "  libxtst6 openjdk-8-jdk-headless openjdk-8-jre-headless\n",
            "0 upgraded, 3 newly installed, 0 to remove and 24 not upgraded.\n",
            "Need to get 36.5 MB of archives.\n",
            "After this operation, 144 MB of additional disk space will be used.\n",
            "Get:1 http://archive.ubuntu.com/ubuntu focal/main amd64 libxtst6 amd64 2:1.2.3-1 [12.8 kB]\n",
            "Get:2 http://archive.ubuntu.com/ubuntu focal-updates/universe amd64 openjdk-8-jre-headless amd64 8u372-ga~us1-0ubuntu1~20.04 [28.3 MB]\n",
            "Get:3 http://archive.ubuntu.com/ubuntu focal-updates/universe amd64 openjdk-8-jdk-headless amd64 8u372-ga~us1-0ubuntu1~20.04 [8,282 kB]\n",
            "Fetched 36.5 MB in 2s (23.8 MB/s)\n",
            "Selecting previously unselected package libxtst6:amd64.\n",
            "(Reading database ... 122531 files and directories currently installed.)\n",
            "Preparing to unpack .../libxtst6_2%3a1.2.3-1_amd64.deb ...\n",
            "Unpacking libxtst6:amd64 (2:1.2.3-1) ...\n",
            "Selecting previously unselected package openjdk-8-jre-headless:amd64.\n",
            "Preparing to unpack .../openjdk-8-jre-headless_8u372-ga~us1-0ubuntu1~20.04_amd64.deb ...\n",
            "Unpacking openjdk-8-jre-headless:amd64 (8u372-ga~us1-0ubuntu1~20.04) ...\n",
            "Selecting previously unselected package openjdk-8-jdk-headless:amd64.\n",
            "Preparing to unpack .../openjdk-8-jdk-headless_8u372-ga~us1-0ubuntu1~20.04_amd64.deb ...\n",
            "Unpacking openjdk-8-jdk-headless:amd64 (8u372-ga~us1-0ubuntu1~20.04) ...\n",
            "Setting up libxtst6:amd64 (2:1.2.3-1) ...\n",
            "Setting up openjdk-8-jre-headless:amd64 (8u372-ga~us1-0ubuntu1~20.04) ...\n",
            "update-alternatives: using /usr/lib/jvm/java-8-openjdk-amd64/jre/bin/orbd to provide /usr/bin/orbd (orbd) in auto mode\n",
            "update-alternatives: using /usr/lib/jvm/java-8-openjdk-amd64/jre/bin/servertool to provide /usr/bin/servertool (servertool) in auto mode\n",
            "update-alternatives: using /usr/lib/jvm/java-8-openjdk-amd64/jre/bin/tnameserv to provide /usr/bin/tnameserv (tnameserv) in auto mode\n",
            "Setting up openjdk-8-jdk-headless:amd64 (8u372-ga~us1-0ubuntu1~20.04) ...\n",
            "update-alternatives: using /usr/lib/jvm/java-8-openjdk-amd64/bin/idlj to provide /usr/bin/idlj (idlj) in auto mode\n",
            "update-alternatives: using /usr/lib/jvm/java-8-openjdk-amd64/bin/wsimport to provide /usr/bin/wsimport (wsimport) in auto mode\n",
            "update-alternatives: using /usr/lib/jvm/java-8-openjdk-amd64/bin/jsadebugd to provide /usr/bin/jsadebugd (jsadebugd) in auto mode\n",
            "update-alternatives: using /usr/lib/jvm/java-8-openjdk-amd64/bin/native2ascii to provide /usr/bin/native2ascii (native2ascii) in auto mode\n",
            "update-alternatives: using /usr/lib/jvm/java-8-openjdk-amd64/bin/javah to provide /usr/bin/javah (javah) in auto mode\n",
            "update-alternatives: using /usr/lib/jvm/java-8-openjdk-amd64/bin/clhsdb to provide /usr/bin/clhsdb (clhsdb) in auto mode\n",
            "update-alternatives: using /usr/lib/jvm/java-8-openjdk-amd64/bin/jhat to provide /usr/bin/jhat (jhat) in auto mode\n",
            "update-alternatives: using /usr/lib/jvm/java-8-openjdk-amd64/bin/extcheck to provide /usr/bin/extcheck (extcheck) in auto mode\n",
            "update-alternatives: using /usr/lib/jvm/java-8-openjdk-amd64/bin/hsdb to provide /usr/bin/hsdb (hsdb) in auto mode\n",
            "update-alternatives: using /usr/lib/jvm/java-8-openjdk-amd64/bin/schemagen to provide /usr/bin/schemagen (schemagen) in auto mode\n",
            "update-alternatives: using /usr/lib/jvm/java-8-openjdk-amd64/bin/xjc to provide /usr/bin/xjc (xjc) in auto mode\n",
            "update-alternatives: using /usr/lib/jvm/java-8-openjdk-amd64/bin/wsgen to provide /usr/bin/wsgen (wsgen) in auto mode\n",
            "Processing triggers for libc-bin (2.31-0ubuntu9.9) ...\n"
          ]
        }
      ],
      "source": [
        "!apt-get install openjdk-8-jdk-headless"
      ]
    },
    {
      "cell_type": "markdown",
      "metadata": {
        "id": "ChP-Os3svrNt"
      },
      "source": [
        "#Installing Apache Spark 3.0.1 with Hadoop 2.7"
      ]
    },
    {
      "cell_type": "code",
      "execution_count": null,
      "metadata": {
        "colab": {
          "base_uri": "https://localhost:8080/"
        },
        "id": "9sDa3F3cviU-",
        "outputId": "bfcfbc50-5872-48b0-ab7f-ff3215c0d09b"
      },
      "outputs": [
        {
          "output_type": "stream",
          "name": "stdout",
          "text": [
            "--2023-05-18 20:21:46--  https://archive.apache.org/dist/spark/spark-3.2.1/spark-3.2.1-bin-hadoop2.7.tgz\n",
            "Resolving archive.apache.org (archive.apache.org)... 138.201.131.134, 2a01:4f8:172:2ec5::2\n",
            "Connecting to archive.apache.org (archive.apache.org)|138.201.131.134|:443... connected.\n",
            "HTTP request sent, awaiting response... 200 OK\n",
            "Length: 272637746 (260M) [application/x-gzip]\n",
            "Saving to: ‘spark-3.2.1-bin-hadoop2.7.tgz’\n",
            "\n",
            "spark-3.2.1-bin-had 100%[===================>] 260.01M  19.2MB/s    in 15s     \n",
            "\n",
            "2023-05-18 20:22:02 (17.8 MB/s) - ‘spark-3.2.1-bin-hadoop2.7.tgz’ saved [272637746/272637746]\n",
            "\n"
          ]
        }
      ],
      "source": [
        "!wget https://archive.apache.org/dist/spark/spark-3.2.1/spark-3.2.1-bin-hadoop2.7.tgz"
      ]
    },
    {
      "cell_type": "markdown",
      "metadata": {
        "id": "EQbergF6wP7Q"
      },
      "source": [
        "#Unzipping the folder"
      ]
    },
    {
      "cell_type": "code",
      "execution_count": null,
      "metadata": {
        "id": "Uq_3g_lfwSXz"
      },
      "outputs": [],
      "source": [
        "!tar xf spark-3.2.1-bin-hadoop2.7.tgz"
      ]
    },
    {
      "cell_type": "markdown",
      "metadata": {
        "id": "ihWCKH7RwVaW"
      },
      "source": [
        "#Install findspark library"
      ]
    },
    {
      "cell_type": "code",
      "execution_count": null,
      "metadata": {
        "id": "mx77o2SYwjLZ"
      },
      "outputs": [],
      "source": [
        "!pip install -q findspark"
      ]
    },
    {
      "cell_type": "markdown",
      "metadata": {
        "id": "zRmA785Lwm4a"
      },
      "source": [
        "#Setting up the environment path and importing findspark"
      ]
    },
    {
      "cell_type": "code",
      "execution_count": null,
      "metadata": {
        "colab": {
          "base_uri": "https://localhost:8080/",
          "height": 35
        },
        "id": "BO4YPx5QwvY3",
        "outputId": "f017858d-b195-4d1f-dd00-177b195bf8e4"
      },
      "outputs": [
        {
          "output_type": "execute_result",
          "data": {
            "text/plain": [
              "'/content/spark-3.2.1-bin-hadoop2.7'"
            ],
            "application/vnd.google.colaboratory.intrinsic+json": {
              "type": "string"
            }
          },
          "metadata": {},
          "execution_count": 5
        }
      ],
      "source": [
        "import os\n",
        "os.environ[\"JAVA_HOME\"] = \"/usr/lib/jvm/java-8-openjdk-amd64\"\n",
        "os.environ[\"SPARK_HOME\"] = \"/content/spark-3.2.1-bin-hadoop2.7\"\n",
        "\n",
        "import findspark\n",
        "findspark.init()\n",
        "findspark.find()"
      ]
    },
    {
      "cell_type": "markdown",
      "metadata": {
        "id": "FCesBLVtxaeq"
      },
      "source": [
        "#Import and create Spark Session"
      ]
    },
    {
      "cell_type": "code",
      "execution_count": null,
      "metadata": {
        "colab": {
          "base_uri": "https://localhost:8080/",
          "height": 216
        },
        "id": "lTAE84Rpxhm9",
        "outputId": "d55e6e96-b6de-488e-9601-195fcc8bc826"
      },
      "outputs": [
        {
          "output_type": "execute_result",
          "data": {
            "text/plain": [
              "<pyspark.sql.session.SparkSession at 0x7fc1f4681ff0>"
            ],
            "text/html": [
              "\n",
              "            <div>\n",
              "                <p><b>SparkSession - in-memory</b></p>\n",
              "                \n",
              "        <div>\n",
              "            <p><b>SparkContext</b></p>\n",
              "\n",
              "            <p><a href=\"http://31c0ecfe8a09:4050\">Spark UI</a></p>\n",
              "\n",
              "            <dl>\n",
              "              <dt>Version</dt>\n",
              "                <dd><code>v3.2.1</code></dd>\n",
              "              <dt>Master</dt>\n",
              "                <dd><code>local</code></dd>\n",
              "              <dt>AppName</dt>\n",
              "                <dd><code>Big_Data_Assessment</code></dd>\n",
              "            </dl>\n",
              "        </div>\n",
              "        \n",
              "            </div>\n",
              "        "
            ]
          },
          "metadata": {},
          "execution_count": 6
        }
      ],
      "source": [
        "from pyspark.sql import SparkSession\n",
        "\n",
        "spark = SparkSession.builder\\\n",
        "        .master(\"local\")\\\n",
        "        .appName(\"Big_Data_Assessment\")\\\n",
        "        .config('spark.ui.port', '4050')\\\n",
        "        .getOrCreate()\n",
        "\n",
        "#printing spark variable\n",
        "\n",
        "spark"
      ]
    },
    {
      "cell_type": "markdown",
      "metadata": {
        "id": "ZODmC0gHx8Le"
      },
      "source": [
        "#Loading the data set"
      ]
    },
    {
      "cell_type": "code",
      "execution_count": null,
      "metadata": {
        "id": "BxwA5mp7z907"
      },
      "outputs": [],
      "source": [
        "ad_clicks_df = spark.read.csv(\"/content/ad-clicks.csv\", header=True, inferSchema=True)\n",
        "buy_clicks_df = spark.read.csv(\"/content/buy-clicks.csv\", header=True, inferSchema=True)\n",
        "game_clicks_df = spark.read.csv(\"/content/game-clicks.csv\", header=True, inferSchema=True)\n",
        "level_events_df = spark.read.csv(\"/content/level-events.csv\", header=True, inferSchema=True)\n",
        "team_assignments_df = spark.read.csv(\"/content/team-assignments.csv\", header=True, inferSchema=True)\n",
        "team_df = spark.read.csv(\"/content/team.csv\", header=True, inferSchema=True)\n",
        "user_session_df = spark.read.csv(\"/content/user-session.csv\", header=True, inferSchema=True)\n",
        "users_df = spark.read.csv(\"/content/users.csv\", header=True, inferSchema=True)\n",
        "combined_data_df = spark.read.csv(\"/content/combined-data.csv\", header=True, inferSchema=True)"
      ]
    },
    {
      "cell_type": "markdown",
      "metadata": {
        "id": "Qt93jIU_UuPo"
      },
      "source": [
        "#Classifier"
      ]
    },
    {
      "cell_type": "code",
      "source": [
        "from pyspark.sql.functions import col, when\n",
        "\n",
        "# Filter out rows with avg_price = \"NULL\"\n",
        "filtered_df = combined_data_df.filter(col(\"avg_price\") != \"NULL\")\n",
        "\n",
        "# Create the \"Spender_NonSpender\" column\n",
        "transformed_df = filtered_df.withColumn(\"Spender_NonSpender\", when(col(\"avg_price\") > 5.0, 1).otherwise(0))\n",
        "\n",
        "# Count the occurrences of 1 and 0 in the transformed column\n",
        "count_of_ones = transformed_df.filter(col(\"Spender_NonSpender\") == 1).count()\n",
        "count_of_zeros = transformed_df.filter(col(\"Spender_NonSpender\") == 0).count()\n",
        "\n",
        "# Print the count\n",
        "print(\"Count of 1:\", count_of_ones)\n",
        "print(\"Count of 0:\", count_of_zeros)\n",
        "\n",
        "# Select the desired columns\n",
        "#transformed_df = transformed_df.select('teamLevel', 'platformType', 'Spender_NonSpender', 'count_hits', 'count_gameclicks')\n",
        "\n",
        "\n",
        "\n",
        "\n",
        "# Show the transformed DataFrame\n",
        "transformed_df.show()\n"
      ],
      "metadata": {
        "colab": {
          "base_uri": "https://localhost:8080/"
        },
        "id": "PUN5YdGwHCFg",
        "outputId": "50d81483-7e46-43ea-9eab-f808405c58e1"
      },
      "execution_count": null,
      "outputs": [
        {
          "output_type": "stream",
          "name": "stdout",
          "text": [
            "Count of 1: 575\n",
            "Count of 0: 836\n",
            "+------+-------------+---------+------------+----------------+----------+-----------+---------+------------------+\n",
            "|userId|userSessionId|teamLevel|platformType|count_gameclicks|count_hits|count_buyId|avg_price|Spender_NonSpender|\n",
            "+------+-------------+---------+------------+----------------+----------+-----------+---------+------------------+\n",
            "|   937|         5652|        1|     android|              39|         0|          1|        1|                 0|\n",
            "|  1623|         5659|        1|      iphone|             129|         9|          1|       10|                 1|\n",
            "|    83|         5661|        1|     android|             102|        14|          1|        5|                 0|\n",
            "|   121|         5665|        1|     android|              39|         4|          1|        3|                 0|\n",
            "|   462|         5666|        1|     android|              90|        10|          1|        3|                 0|\n",
            "|   819|         5679|        1|      iphone|              51|         8|          1|       20|                 1|\n",
            "|  2199|         5697|        1|     android|              51|         6|          2|      2.5|                 0|\n",
            "|  1143|         5698|        1|     android|              47|         5|          2|        2|                 0|\n",
            "|  1652|         5706|        1|     android|              46|         7|          1|        1|                 0|\n",
            "|  2222|         5709|        1|      iphone|              41|         6|          1|       20|                 1|\n",
            "|   374|         5716|        1|     android|              47|         7|          1|        3|                 0|\n",
            "|  1535|         5720|        1|      iphone|              76|         7|          1|       20|                 1|\n",
            "|    21|         5721|        1|     android|              52|         2|          1|        3|                 0|\n",
            "|  2379|         5749|        1|     android|              62|         9|          1|        3|                 0|\n",
            "|  1807|         5770|        1|      iphone|             177|        25|          2|      7.5|                 1|\n",
            "|   868|         5775|        1|      iphone|              54|         5|          1|       10|                 1|\n",
            "|  1567|         5777|        1|     android|              27|         4|          2|        4|                 0|\n",
            "|   221|         5779|        1|      iphone|              37|         2|          1|       20|                 1|\n",
            "|  2306|         5783|        1|     android|              67|         5|          1|        1|                 0|\n",
            "|  1065|         5785|        1|      iphone|              37|         5|          2|     11.5|                 1|\n",
            "+------+-------------+---------+------------+----------------+----------+-----------+---------+------------------+\n",
            "only showing top 20 rows\n",
            "\n"
          ]
        }
      ]
    },
    {
      "cell_type": "code",
      "execution_count": null,
      "metadata": {
        "colab": {
          "base_uri": "https://localhost:8080/"
        },
        "id": "fUWLQnMtuV31",
        "outputId": "7379568f-9d90-4978-93bc-4511bf170f9c"
      },
      "outputs": [
        {
          "output_type": "stream",
          "name": "stdout",
          "text": [
            "+---------+--------------------+----------+------------------+\n",
            "|teamLevel|platformType_indexed|count_hits|Spender_NonSpender|\n",
            "+---------+--------------------+----------+------------------+\n",
            "|        1|                 1.0|         0|                 0|\n",
            "|        1|                 0.0|         9|                 1|\n",
            "|        1|                 1.0|        14|                 0|\n",
            "|        1|                 1.0|         4|                 0|\n",
            "|        1|                 1.0|        10|                 0|\n",
            "|        1|                 0.0|         8|                 1|\n",
            "|        1|                 1.0|         6|                 0|\n",
            "|        1|                 1.0|         5|                 0|\n",
            "|        1|                 1.0|         7|                 0|\n",
            "|        1|                 0.0|         6|                 1|\n",
            "|        1|                 1.0|         7|                 0|\n",
            "|        1|                 0.0|         7|                 1|\n",
            "|        1|                 1.0|         2|                 0|\n",
            "|        1|                 1.0|         9|                 0|\n",
            "|        1|                 0.0|        25|                 1|\n",
            "|        1|                 0.0|         5|                 1|\n",
            "|        1|                 1.0|         4|                 0|\n",
            "|        1|                 0.0|         2|                 1|\n",
            "|        1|                 1.0|         5|                 0|\n",
            "|        1|                 0.0|         5|                 1|\n",
            "+---------+--------------------+----------+------------------+\n",
            "only showing top 20 rows\n",
            "\n",
            "+---------+--------------------+----------+------------------+--------------+\n",
            "|teamLevel|platformType_indexed|count_hits|Spender_NonSpender|      features|\n",
            "+---------+--------------------+----------+------------------+--------------+\n",
            "|        1|                 0.0|         2|                 1| [2.0,1.0,0.0]|\n",
            "|        1|                 0.0|         2|                 1| [2.0,1.0,0.0]|\n",
            "|        1|                 0.0|         2|                 1| [2.0,1.0,0.0]|\n",
            "|        1|                 0.0|         2|                 1| [2.0,1.0,0.0]|\n",
            "|        1|                 0.0|         3|                 0| [3.0,1.0,0.0]|\n",
            "|        1|                 0.0|         3|                 1| [3.0,1.0,0.0]|\n",
            "|        1|                 0.0|         3|                 1| [3.0,1.0,0.0]|\n",
            "|        1|                 0.0|         4|                 0| [4.0,1.0,0.0]|\n",
            "|        1|                 0.0|         5|                 1| [5.0,1.0,0.0]|\n",
            "|        1|                 0.0|         5|                 1| [5.0,1.0,0.0]|\n",
            "|        1|                 0.0|         5|                 1| [5.0,1.0,0.0]|\n",
            "|        1|                 0.0|         6|                 1| [6.0,1.0,0.0]|\n",
            "|        1|                 0.0|         6|                 1| [6.0,1.0,0.0]|\n",
            "|        1|                 0.0|         6|                 1| [6.0,1.0,0.0]|\n",
            "|        1|                 0.0|         6|                 1| [6.0,1.0,0.0]|\n",
            "|        1|                 0.0|         7|                 1| [7.0,1.0,0.0]|\n",
            "|        1|                 0.0|         7|                 1| [7.0,1.0,0.0]|\n",
            "|        1|                 0.0|        10|                 1|[10.0,1.0,0.0]|\n",
            "|        1|                 0.0|        16|                 1|[16.0,1.0,0.0]|\n",
            "|        1|                 0.0|        18|                 1|[18.0,1.0,0.0]|\n",
            "+---------+--------------------+----------+------------------+--------------+\n",
            "only showing top 20 rows\n",
            "\n"
          ]
        }
      ],
      "source": [
        "from pyspark.ml.feature import StringIndexer, VectorAssembler\n",
        "from pyspark.ml.classification import DecisionTreeClassifier\n",
        "from pyspark.ml.evaluation import BinaryClassificationEvaluator\n",
        "from pyspark.ml.feature import StringIndexer\n",
        "\n",
        "\n",
        "# Create an indexer\n",
        "indexer = StringIndexer(inputCol='platformType', outputCol='platformType_indexed')\n",
        "\n",
        "# Indexer identifies categories in the data\n",
        "indexer_model = indexer.fit(transformed_df)\n",
        "\n",
        "# Indexer creates a new column with numeric index values\n",
        "indexed_df= indexer_model.transform(transformed_df)\n",
        "#indexed_df.show()\n",
        "\n",
        "DT_df = indexed_df.select('teamLevel','platformType_indexed', 'count_hits','Spender_NonSpender')                                   \n",
        "\n",
        "# Show the transformed DataFrame\n",
        "DT_df.show()  \n",
        "\n",
        "\n",
        "\n",
        "# Prepare features vector using VectorAssembler\n",
        "featuresUsed = [\"count_hits\",\n",
        " 'teamLevel',\n",
        "\"platformType_indexed\"\n",
        " ]\n",
        "\n",
        "\n",
        "#Prepare features using VectorAssembler\n",
        "assembler = VectorAssembler(inputCols=featuresUsed,  outputCol='features')\n",
        "assembled_df = assembler.transform(DT_df)\n",
        "\n",
        "# Split the data into training and test sets\n",
        "train_data, test_data = assembled_df.randomSplit([0.8, 0.2], seed= 17)\n",
        "train_data.show()\n",
        "\n"
      ]
    },
    {
      "cell_type": "code",
      "execution_count": null,
      "metadata": {
        "colab": {
          "base_uri": "https://localhost:8080/"
        },
        "id": "e6XB7ld-3rju",
        "outputId": "2b3517cb-18c1-458d-dd48-ed204a5a77da"
      },
      "outputs": [
        {
          "output_type": "stream",
          "name": "stdout",
          "text": [
            "+------------------+----------+----------------------------------------+\n",
            "|Spender_NonSpender|prediction|probability                             |\n",
            "+------------------+----------+----------------------------------------+\n",
            "|1                 |1.0       |[0.0,1.0]                               |\n",
            "|1                 |1.0       |[0.22093023255813954,0.7790697674418605]|\n",
            "|1                 |1.0       |[0.22093023255813954,0.7790697674418605]|\n",
            "|1                 |1.0       |[0.22093023255813954,0.7790697674418605]|\n",
            "|1                 |1.0       |[0.22093023255813954,0.7790697674418605]|\n",
            "+------------------+----------+----------------------------------------+\n",
            "only showing top 5 rows\n",
            "\n",
            "+------------------+----------+-----+\n",
            "|Spender_NonSpender|prediction|count|\n",
            "+------------------+----------+-----+\n",
            "|                 1|       0.0|   14|\n",
            "|                 0|       0.0|  166|\n",
            "|                 1|       1.0|   84|\n",
            "|                 0|       1.0|   16|\n",
            "+------------------+----------+-----+\n",
            "\n",
            "0.8928571428571429\n"
          ]
        }
      ],
      "source": [
        "from pyspark.ml.classification import DecisionTreeClassifier\n",
        "\n",
        "# Create a classifier object and fit to the training data\n",
        "tree = DecisionTreeClassifier(labelCol='Spender_NonSpender')\n",
        "tree_model = tree.fit(train_data)\n",
        "\n",
        "# Create predictions for the testing data and take a look at the predictions\n",
        "prediction = tree_model.transform(test_data)\n",
        "prediction.select('Spender_NonSpender', 'prediction', 'probability').show(5, False)\n",
        "\n",
        "# Create a confusion matrix\n",
        "prediction.groupBy('Spender_NonSpender', 'prediction').count().show()\n",
        "\n",
        "# Calculate the elements of the confusion matrix\n",
        "TN = prediction.filter('prediction = 0 AND Spender_NonSpender = prediction').count()\n",
        "TP = prediction.filter('prediction = 1 AND Spender_NonSpender = prediction').count()\n",
        "FN = prediction.filter('prediction = 1 AND Spender_NonSpender = 0').count()\n",
        "FP = prediction.filter('prediction = 0 AND Spender_NonSpender= 1').count()\n",
        "\n",
        "# Accuracy measures the proportion of correct predictions\n",
        "accuracy = (TN + TP) / (TN + TP + FN + FP)\n",
        "print(accuracy)"
      ]
    },
    {
      "cell_type": "code",
      "execution_count": null,
      "metadata": {
        "colab": {
          "base_uri": "https://localhost:8080/",
          "height": 487
        },
        "id": "gqWDpxjDE5cv",
        "outputId": "b2864d01-8444-478c-ec61-9e1ba766ed3c"
      },
      "outputs": [
        {
          "output_type": "display_data",
          "data": {
            "text/plain": [
              "<Figure size 640x480 with 2 Axes>"
            ],
            "image/png": "[encoded data removed]"
          },
          "metadata": {}
        }
      ],
      "source": [
        "import matplotlib.pyplot as plt\n",
        "import numpy as np\n",
        "\n",
        "# Define the confusion matrix values\n",
        "confusion_matrix_values = np.array([[TN, FP], [FN, TP]])\n",
        "\n",
        "# Set the labels for the confusion matrix\n",
        "labels = ['Non-Spender', 'Spender']\n",
        "\n",
        "# Create the confusion matrix plot\n",
        "plt.imshow(confusion_matrix_values, interpolation='nearest', cmap=plt.cm.Blues)\n",
        "plt.title('Confusion Matrix')\n",
        "plt.colorbar()\n",
        "tick_marks = np.arange(len(labels))\n",
        "plt.xticks(tick_marks, labels)\n",
        "plt.yticks(tick_marks, labels)\n",
        "\n",
        "# Add text annotations to the confusion matrix\n",
        "thresh = confusion_matrix_values.max() / 2.\n",
        "for i in range(confusion_matrix_values.shape[0]):\n",
        "    for j in range(confusion_matrix_values.shape[1]):\n",
        "        plt.text(j, i, format(confusion_matrix_values[i, j], 'd'),\n",
        "                 ha=\"center\", va=\"center\",\n",
        "                 color=\"white\" if confusion_matrix_values[i, j] > thresh else \"black\")\n",
        "\n",
        "plt.xlabel('Predicted label')\n",
        "plt.ylabel('True label')\n",
        "plt.tight_layout()\n",
        "plt.show()\n"
      ]
    },
    {
      "cell_type": "markdown",
      "source": [
        "#Logistic Regression"
      ],
      "metadata": {
        "id": "LQCs03ao8zoG"
      }
    },
    {
      "cell_type": "code",
      "source": [
        "\n",
        "from pyspark.ml.classification import LogisticRegression\n",
        "\n",
        "# Selecting numeric columns\n",
        "# Create an assembler object\n",
        "featuresUsed = [\"count_hits\",\n",
        " 'teamLevel',\n",
        "\"platformType_indexed\"\n",
        " ]\n",
        "\n",
        "\n",
        "assembler = VectorAssembler(inputCols=featuresUsed,  outputCol='features')\n",
        "assembled = assembler.transform(DT_df)\n",
        "\n",
        "# Split into training and test sets in a 80:20 ratio\n",
        "train_data, test_data = assembled.randomSplit([0.8, 0.2], seed=17)\n",
        "\n",
        "# Create classifier object and train on training data\n",
        "logistic = LogisticRegression(labelCol='Spender_NonSpender').fit(train_data)\n",
        "\n",
        "# Create a predictions for the test data and show confusion matrix\n",
        "prediction = logistic.transform(test_data)\n",
        "prediction.groupBy(\"Spender_NonSpender\", \"prediction\").count().show()\n"
      ],
      "metadata": {
        "colab": {
          "base_uri": "https://localhost:8080/"
        },
        "id": "GEicTfRS8ytE",
        "outputId": "b215d113-b20d-4225-f720-78bda9541a4b"
      },
      "execution_count": null,
      "outputs": [
        {
          "output_type": "stream",
          "name": "stdout",
          "text": [
            "+------------------+----------+-----+\n",
            "|Spender_NonSpender|prediction|count|\n",
            "+------------------+----------+-----+\n",
            "|                 1|       0.0|   12|\n",
            "|                 0|       0.0|  168|\n",
            "|                 1|       1.0|   86|\n",
            "|                 0|       1.0|   14|\n",
            "+------------------+----------+-----+\n",
            "\n"
          ]
        }
      ]
    },
    {
      "cell_type": "code",
      "source": [
        "# Calculate the elements of the confusion matrix\n",
        "TN = prediction.filter('prediction = 0 AND Spender_NonSpender = prediction').count()\n",
        "TP = prediction.filter('prediction = 1 AND Spender_NonSpender = prediction').count()\n",
        "FN = prediction.filter('prediction = 1 AND Spender_NonSpender = 0').count()\n",
        "FP = prediction.filter('prediction = 0 AND Spender_NonSpender= 1').count()\n",
        "\n",
        "# Accuracy measures the proportion of correct predictions\n",
        "accuracy = (TN + TP) / (TN + TP + FN + FP)\n",
        "print(accuracy)\n"
      ],
      "metadata": {
        "colab": {
          "base_uri": "https://localhost:8080/"
        },
        "id": "HllGqz5a-tW9",
        "outputId": "950960dc-e33f-40c1-dcfd-5e266959e79a"
      },
      "execution_count": null,
      "outputs": [
        {
          "output_type": "stream",
          "name": "stdout",
          "text": [
            "0.9071428571428571\n"
          ]
        }
      ]
    },
    {
      "cell_type": "code",
      "source": [
        "import matplotlib.pyplot as plt\n",
        "import numpy as np\n",
        "\n",
        "# Define the confusion matrix values\n",
        "confusion_matrix_values = np.array([[TN, FP], [FN, TP]])\n",
        "\n",
        "# Set the labels for the confusion matrix\n",
        "labels = ['Non-Spender', 'Spender']\n",
        "\n",
        "# Create the confusion matrix plot\n",
        "plt.imshow(confusion_matrix_values, interpolation='nearest', cmap=plt.cm.Blues)\n",
        "plt.title('Confusion Matrix')\n",
        "plt.colorbar()\n",
        "tick_marks = np.arange(len(labels))\n",
        "plt.xticks(tick_marks, labels)\n",
        "plt.yticks(tick_marks, labels)\n",
        "\n",
        "# Add text annotations to the confusion matrix\n",
        "thresh = confusion_matrix_values.max() / 2.\n",
        "for i in range(confusion_matrix_values.shape[0]):\n",
        "    for j in range(confusion_matrix_values.shape[1]):\n",
        "        plt.text(j, i, format(confusion_matrix_values[i, j], 'd'),\n",
        "                 ha=\"center\", va=\"center\",\n",
        "                 color=\"white\" if confusion_matrix_values[i, j] > thresh else \"black\")\n",
        "\n",
        "plt.xlabel('Predicted label')\n",
        "plt.ylabel('True label')\n",
        "plt.tight_layout()\n",
        "plt.show()\n"
      ],
      "metadata": {
        "colab": {
          "base_uri": "https://localhost:8080/",
          "height": 487
        },
        "id": "3t_DpVqtlCPD",
        "outputId": "ab71f4c4-08c3-46a2-d626-2fa11422b9e2"
      },
      "execution_count": null,
      "outputs": [
        {
          "output_type": "display_data",
          "data": {
            "text/plain": [
              "<Figure size 640x480 with 2 Axes>"
            ],
            "image/png": "[encoded data removed]"
          },
          "metadata": {}
        }
      ]
    }
  ],
  "metadata": {
    "colab": {
      "provenance": []
    },
    "kernelspec": {
      "display_name": "Python 3",
      "name": "python3"
    },
    "language_info": {
      "name": "python"
    }
  },
  "nbformat": 4,
  "nbformat_minor": 0
}